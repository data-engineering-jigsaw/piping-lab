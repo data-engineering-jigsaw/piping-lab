{
 "cells": [
  {
   "cell_type": "markdown",
   "metadata": {},
   "source": [
    "# Working with Pipe"
   ]
  },
  {
   "cell_type": "markdown",
   "metadata": {},
   "source": [
    "### Introduction"
   ]
  },
  {
   "cell_type": "markdown",
   "metadata": {},
   "source": [
    "In this lesson, let's download and explore our code with piping.  Time to get started."
   ]
  },
  {
   "cell_type": "markdown",
   "metadata": {},
   "source": [
    "### Making Requests from the Shell"
   ]
  },
  {
   "cell_type": "markdown",
   "metadata": {},
   "source": [
    "Now as we may know we can use `curl` to make a request from the command line.  For example, go to the command line and write `curl https://www.espn.com/`."
   ]
  },
  {
   "cell_type": "markdown",
   "metadata": {},
   "source": [
    "> We should see the contents of the website printed in our terminal."
   ]
  },
  {
   "cell_type": "markdown",
   "metadata": {},
   "source": [
    "Next try using `wget`.  First, if on a mac, install `wget` with `brew install wget` -- windows instructions [are here](https://builtvisible.com/download-your-website-with-wget/). Then in the terminal, write `wget` followed by the same url.\n",
    "\n",
    "> In general, we'll use curl over `wget` as it has [slightly more functionality](https://daniel.haxx.se/docs/curl-vs-wget.html)."
   ]
  },
  {
   "cell_type": "markdown",
   "metadata": {},
   "source": [
    "Ok, now let's use curl to download airbnb data from the following url, and instead of just displaying the content in the shell, save the data to `airbnb.csv` (use a redirect to do so)."
   ]
  },
  {
   "cell_type": "code",
   "execution_count": 1,
   "metadata": {},
   "outputs": [],
   "source": [
    "url = \"https://raw.githubusercontent.com/rajtulluri/Airbnb-Data-Exploratory-Analysis/master/AB_NYC_2019.csv\""
   ]
  },
  {
   "cell_type": "markdown",
   "metadata": {},
   "source": [
    "Next, display the first two lines to ensure it was done correctly."
   ]
  },
  {
   "cell_type": "code",
   "execution_count": 7,
   "metadata": {},
   "outputs": [
    {
     "name": "stdout",
     "output_type": "stream",
     "text": [
      "id,name,host_id,host_name,neighbourhood_group,neighbourhood,latitude,longitude,room_type,price,minimum_nights,number_of_reviews,last_review,reviews_per_month,calculated_host_listings_count,availability_365\n",
      "2539,Clean & quiet apt home by the park,2787,John,Brooklyn,Kensington,40.64749,-73.97237,Private room,149,1,9,2018-10-19,0.21,6,365\n"
     ]
    }
   ],
   "source": [
    "!head -n 2 airbnb.csv\n",
    "\n",
    "# id,name,host_id,host_name,neighbourhood_group,neighbourhood,latitude,longitude,room_type,price,minimum_nights,number_of_reviews,last_review,reviews_per_month,calculated_host_listings_count,availability_365\n",
    "# 2539,Clean & quiet apt home by the park,2787,John,Brooklyn,Kensington,40.64749,-73.97237,Private room,149,1,9,2018-10-19,0.21,6,365"
   ]
  },
  {
   "cell_type": "markdown",
   "metadata": {},
   "source": [
    "And count the number of lines in the file."
   ]
  },
  {
   "cell_type": "code",
   "execution_count": 10,
   "metadata": {},
   "outputs": [
    {
     "name": "stdout",
     "output_type": "stream",
     "text": [
      "   49081 airbnb.csv\n"
     ]
    }
   ],
   "source": [
    "!wc -l airbnb.csv\n",
    "\n",
    "# 49081"
   ]
  },
  {
   "cell_type": "markdown",
   "metadata": {},
   "source": [
    "Ok, so close to 50000 records."
   ]
  },
  {
   "cell_type": "markdown",
   "metadata": {},
   "source": [
    "Now, let's see count the number of lines where Brooklyn shows up."
   ]
  },
  {
   "cell_type": "code",
   "execution_count": 13,
   "metadata": {},
   "outputs": [
    {
     "name": "stdout",
     "output_type": "stream",
     "text": [
      "   20151\n"
     ]
    }
   ],
   "source": [
    "!grep Brooklyn airbnb.csv | wc -l\n",
    "\n",
    "# 20151"
   ]
  },
  {
   "cell_type": "markdown",
   "metadata": {},
   "source": [
    "And the number of lines that Queens shows up."
   ]
  },
  {
   "cell_type": "code",
   "execution_count": 21,
   "metadata": {},
   "outputs": [
    {
     "name": "stdout",
     "output_type": "stream",
     "text": [
      "    5675\n"
     ]
    }
   ],
   "source": [
    "!grep Queens airbnb.csv | wc -l\n",
    "\n",
    "# 5675"
   ]
  },
  {
   "cell_type": "markdown",
   "metadata": {},
   "source": [
    "Then take all of the matching lines of Brooklyn and place them in a file called `brooklyn_and_queens.csv`."
   ]
  },
  {
   "cell_type": "code",
   "execution_count": 18,
   "metadata": {},
   "outputs": [],
   "source": [
    "!grep Brooklyn airbnb.csv > brooklyn_and_queens.csv"
   ]
  },
  {
   "cell_type": "markdown",
   "metadata": {},
   "source": [
    "And take a look at the first three lines of the new file to confirm that the contents are in fact of Brooklyn apartments."
   ]
  },
  {
   "cell_type": "code",
   "execution_count": 19,
   "metadata": {},
   "outputs": [
    {
     "name": "stdout",
     "output_type": "stream",
     "text": [
      "2539,Clean & quiet apt home by the park,2787,John,Brooklyn,Kensington,40.64749,-73.97237,Private room,149,1,9,2018-10-19,0.21,6,365\n",
      "3831,Cozy Entire Floor of Brownstone,4869,LisaRoxanne,Brooklyn,Clinton Hill,40.68514,-73.95976,Entire home/apt,89,1,270,2019-07-05,4.64,1,194\n"
     ]
    }
   ],
   "source": [
    "!head -n 2 brooklyn_and_queens.csv"
   ]
  },
  {
   "cell_type": "markdown",
   "metadata": {},
   "source": [
    "Now append in the apartments from Queens to the same csv file."
   ]
  },
  {
   "cell_type": "code",
   "execution_count": 20,
   "metadata": {},
   "outputs": [],
   "source": [
    "!grep Queens airbnb.csv >> brooklyn.csv"
   ]
  },
  {
   "cell_type": "markdown",
   "metadata": {},
   "source": [
    "Now our csv file should be roughly 25700, as that is the sum of the number of lines with brooklyn and number of lines with queens that we saw earlier. Let's check the number of lines in brooklyn.csv file now.  "
   ]
  },
  {
   "cell_type": "code",
   "execution_count": 23,
   "metadata": {},
   "outputs": [
    {
     "name": "stdout",
     "output_type": "stream",
     "text": [
      "   25826 brooklyn.csv\n"
     ]
    }
   ],
   "source": [
    "!wc -l brooklyn.csv\n",
    "\n",
    "# 25826 brooklyn.csv"
   ]
  },
  {
   "cell_type": "markdown",
   "metadata": {},
   "source": [
    "Ok, looks close enough.  Finally, let's change the name of our file to say `brooklyn_and_queens.csv`."
   ]
  },
  {
   "cell_type": "markdown",
   "metadata": {},
   "source": [
    "### Bonus: A Deeper Dive on Sorting"
   ]
  },
  {
   "cell_type": "markdown",
   "metadata": {},
   "source": [
    "Let's wrap up by taking a deeper look at sorting.  Now, if we want to *sort* our `airbnb.csv` file by say the name of the listing, how can we accomplish this?"
   ]
  },
  {
   "cell_type": "code",
   "execution_count": 31,
   "metadata": {},
   "outputs": [
    {
     "name": "stdout",
     "output_type": "stream",
     "text": [
      "id,name,host_id,host_name,neighbourhood_group,neighbourhood,latitude,longitude,room_type,price,minimum_nights,number_of_reviews,last_review,reviews_per_month,calculated_host_listings_count,availability_365\n",
      "2539,Clean & quiet apt home by the park,2787,John,Brooklyn,Kensington,40.64749,-73.97237,Private room,149,1,9,2018-10-19,0.21,6,365\n"
     ]
    }
   ],
   "source": [
    "!head -n 2 airbnb.csv "
   ]
  },
  {
   "cell_type": "markdown",
   "metadata": {},
   "source": [
    "Well the difficult part is that our name is not listed until the second column.  It turns out that we can pass sort the `-k` flag followed by the index of the column we wish to sort by."
   ]
  },
  {
   "cell_type": "code",
   "execution_count": 37,
   "metadata": {},
   "outputs": [
    {
     "name": "stdout",
     "output_type": "stream",
     "text": [
      "\n",
      " 12 mins Manhattan\",213781715,Anting,Brooklyn,Greenpoint,40.73543,-73.95454,Private room,119,1,0,,,33,179\n",
      " 15 MinTimes Square\",57049951,Eliahu,Manhattan,Harlem,40.81316,-73.95176,Private room,69,2,2,2018-10-22,0.10,9,365\n",
      "sort: Broken pipe\n"
     ]
    }
   ],
   "source": [
    "!sort -k1 -t \",\" airbnb.csv | head -n 3"
   ]
  },
  {
   "cell_type": "markdown",
   "metadata": {},
   "source": [
    "> We [can ignore broken pipe errors](https://stackoverflow.com/questions/46202653/bash-error-in-sort-sort-write-failed-standard-output-broken-pipe)."
   ]
  },
  {
   "cell_type": "markdown",
   "metadata": {},
   "source": [
    "So let's unpack the above.  We specified a `-k1` to specify that we want to sort by the column at index 1 (the second column), and then we used a `-t` to specify that our columns were delimited by a \",\".  \n",
    "\n",
    "> By default sort assumes a sequence of blank characters as the delimiter."
   ]
  },
  {
   "cell_type": "markdown",
   "metadata": {},
   "source": [
    "Now let's try to sort by the price.  The price is located in the 10th column, or at index 9.  But this time there is a twist.  Because price is a number we need to tell linux to treat the field as a number.  We do so by changing the column flag to `-nk9`."
   ]
  },
  {
   "cell_type": "code",
   "execution_count": 43,
   "metadata": {},
   "outputs": [
    {
     "name": "stdout",
     "output_type": "stream",
     "text": [
      "walk 2 train\",20951849,Elaine,Brooklyn,Bedford-Stuyvesant,40.69138,-73.93217,Entire home/apt,350,1,5,2019-01-01,0.49,2,5\n",
      "Loft .\",4399103,James,Manhattan,Greenwich Village,40.72768,-73.99917,Entire home/apt,410,31,40,2019-07-01,3.20,2,10\n",
      "only 17min to Central Park\",161351021,V,Queens,Woodside,40.75593,-73.90268,Private room,425,1,11,2018-03-01,0.58,2,0\n",
      "Hell’s Kitchens\",35303743,Patricia,Manhattan,Upper West Side,40.76835,-73.98367,Private room,6500,30,0,,,1,97\n",
      "3038614,\"Lovely, Huge, Open, Quiet, Spacious, Sunny, A/C\",14892152,Laura,Brooklyn,Bedford-Stuyvesant,40.68596,-73.95837,Entire home/apt,155,25,3,2015-04-02,0.05,1,364\n"
     ]
    }
   ],
   "source": [
    "!sort -t \",\" -nk9 airbnb.csv | tail -n 5"
   ]
  },
  {
   "cell_type": "markdown",
   "metadata": {},
   "source": [
    "> The prices are after the room type (eg. `Entire home/apt`).  Notice that this comes close to sorting our records, but is thrown off by the commas in the title."
   ]
  },
  {
   "cell_type": "markdown",
   "metadata": {},
   "source": [
    "### Summary"
   ]
  },
  {
   "cell_type": "markdown",
   "metadata": {},
   "source": [
    "In this lesson, we practiced combining shell commands with pipe and redirects.  We first used a redirect to curl data from a web address and store it in a file.  Then we used pipe to take the results from searching for Brooklyn or Queens, and counting the number of lines.  Finally we used redirect to add and append those results to a file."
   ]
  }
 ],
 "metadata": {
  "kernelspec": {
   "display_name": "Python 3",
   "language": "python",
   "name": "python3"
  },
  "language_info": {
   "codemirror_mode": {
    "name": "ipython",
    "version": 3
   },
   "file_extension": ".py",
   "mimetype": "text/x-python",
   "name": "python",
   "nbconvert_exporter": "python",
   "pygments_lexer": "ipython3",
   "version": "3.9.1"
  }
 },
 "nbformat": 4,
 "nbformat_minor": 4
}
